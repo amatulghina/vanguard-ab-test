{
 "cells": [
  {
   "cell_type": "code",
   "execution_count": 2,
   "id": "c763b3d7-fe28-4998-bebf-fa9a1087dc83",
   "metadata": {},
   "outputs": [],
   "source": [
    "import pandas as pd\n",
    "import numpy as np"
   ]
  },
  {
   "cell_type": "code",
   "execution_count": 10,
   "id": "f9c84021-3908-453a-a278-eb4f12c5cb9b",
   "metadata": {},
   "outputs": [],
   "source": [
    "pd.set_option('display.max_columns', None)\n",
    "pd.set_option('display.max_rows', None)"
   ]
  },
  {
   "cell_type": "code",
   "execution_count": null,
   "id": "4e9606ad-52e2-4997-a484-8d83bf632bef",
   "metadata": {},
   "outputs": [],
   "source": [
    "# demo = \"../data/raw/df_final_demo.txt\"\n",
    "# webdata1 = \"../data/raw/df_final_web_data_pt_1.txt\"\n",
    "# webdata2 = \"../data/raw/df_final_web_data_pt_2.txt\"\n",
    "# experiment = \"../data/raw/df_final_experiment_clients.txt\"\n",
    "\n",
    "# df_demo = pd.read_csv(demo)\n",
    "# df_webdata1 = pd.read_csv(webdata1)\n",
    "# df_webdata2 = pd.read_csv(webdata2)\n",
    "# df_exp = pd.read_csv(experiment)"
   ]
  },
  {
   "cell_type": "code",
   "execution_count": 3,
   "id": "fb7a9c93-6a27-42bf-8e54-95d70f5cb48d",
   "metadata": {},
   "outputs": [],
   "source": [
    "df_demo = pd.read_csv('/Users/sashacrowe/codebase-ih/vanguard-ab-test/data/raw/df_final_demo.txt')"
   ]
  },
  {
   "cell_type": "markdown",
   "id": "02e7aa12-6367-424f-83e4-b8c83ddc15c7",
   "metadata": {},
   "source": [
    "## First Look at the Dataset"
   ]
  },
  {
   "cell_type": "code",
   "execution_count": 4,
   "id": "05fc4895-ee3e-4a97-b32f-fc98ff266290",
   "metadata": {},
   "outputs": [
    {
     "data": {
      "text/html": [
       "<div>\n",
       "<style scoped>\n",
       "    .dataframe tbody tr th:only-of-type {\n",
       "        vertical-align: middle;\n",
       "    }\n",
       "\n",
       "    .dataframe tbody tr th {\n",
       "        vertical-align: top;\n",
       "    }\n",
       "\n",
       "    .dataframe thead th {\n",
       "        text-align: right;\n",
       "    }\n",
       "</style>\n",
       "<table border=\"1\" class=\"dataframe\">\n",
       "  <thead>\n",
       "    <tr style=\"text-align: right;\">\n",
       "      <th></th>\n",
       "      <th>client_id</th>\n",
       "      <th>clnt_tenure_yr</th>\n",
       "      <th>clnt_tenure_mnth</th>\n",
       "      <th>clnt_age</th>\n",
       "      <th>gendr</th>\n",
       "      <th>num_accts</th>\n",
       "      <th>bal</th>\n",
       "      <th>calls_6_mnth</th>\n",
       "      <th>logons_6_mnth</th>\n",
       "    </tr>\n",
       "  </thead>\n",
       "  <tbody>\n",
       "    <tr>\n",
       "      <th>0</th>\n",
       "      <td>836976</td>\n",
       "      <td>6.0</td>\n",
       "      <td>73.0</td>\n",
       "      <td>60.5</td>\n",
       "      <td>U</td>\n",
       "      <td>2.0</td>\n",
       "      <td>45105.30</td>\n",
       "      <td>6.0</td>\n",
       "      <td>9.0</td>\n",
       "    </tr>\n",
       "    <tr>\n",
       "      <th>1</th>\n",
       "      <td>2304905</td>\n",
       "      <td>7.0</td>\n",
       "      <td>94.0</td>\n",
       "      <td>58.0</td>\n",
       "      <td>U</td>\n",
       "      <td>2.0</td>\n",
       "      <td>110860.30</td>\n",
       "      <td>6.0</td>\n",
       "      <td>9.0</td>\n",
       "    </tr>\n",
       "    <tr>\n",
       "      <th>2</th>\n",
       "      <td>1439522</td>\n",
       "      <td>5.0</td>\n",
       "      <td>64.0</td>\n",
       "      <td>32.0</td>\n",
       "      <td>U</td>\n",
       "      <td>2.0</td>\n",
       "      <td>52467.79</td>\n",
       "      <td>6.0</td>\n",
       "      <td>9.0</td>\n",
       "    </tr>\n",
       "    <tr>\n",
       "      <th>3</th>\n",
       "      <td>1562045</td>\n",
       "      <td>16.0</td>\n",
       "      <td>198.0</td>\n",
       "      <td>49.0</td>\n",
       "      <td>M</td>\n",
       "      <td>2.0</td>\n",
       "      <td>67454.65</td>\n",
       "      <td>3.0</td>\n",
       "      <td>6.0</td>\n",
       "    </tr>\n",
       "    <tr>\n",
       "      <th>4</th>\n",
       "      <td>5126305</td>\n",
       "      <td>12.0</td>\n",
       "      <td>145.0</td>\n",
       "      <td>33.0</td>\n",
       "      <td>F</td>\n",
       "      <td>2.0</td>\n",
       "      <td>103671.75</td>\n",
       "      <td>0.0</td>\n",
       "      <td>3.0</td>\n",
       "    </tr>\n",
       "  </tbody>\n",
       "</table>\n",
       "</div>"
      ],
      "text/plain": [
       "   client_id  clnt_tenure_yr  clnt_tenure_mnth  clnt_age gendr  num_accts  \\\n",
       "0     836976             6.0              73.0      60.5     U        2.0   \n",
       "1    2304905             7.0              94.0      58.0     U        2.0   \n",
       "2    1439522             5.0              64.0      32.0     U        2.0   \n",
       "3    1562045            16.0             198.0      49.0     M        2.0   \n",
       "4    5126305            12.0             145.0      33.0     F        2.0   \n",
       "\n",
       "         bal  calls_6_mnth  logons_6_mnth  \n",
       "0   45105.30           6.0            9.0  \n",
       "1  110860.30           6.0            9.0  \n",
       "2   52467.79           6.0            9.0  \n",
       "3   67454.65           3.0            6.0  \n",
       "4  103671.75           0.0            3.0  "
      ]
     },
     "execution_count": 4,
     "metadata": {},
     "output_type": "execute_result"
    }
   ],
   "source": [
    "df_demo.head()"
   ]
  },
  {
   "cell_type": "code",
   "execution_count": 5,
   "id": "08e5e231-7d6a-48fe-b1a5-351f9270e532",
   "metadata": {},
   "outputs": [
    {
     "data": {
      "text/plain": [
       "(70609, 9)"
      ]
     },
     "execution_count": 5,
     "metadata": {},
     "output_type": "execute_result"
    }
   ],
   "source": [
    "df_demo.shape"
   ]
  },
  {
   "cell_type": "code",
   "execution_count": 7,
   "id": "62abcac1-e201-419b-866f-9b7697f47b2a",
   "metadata": {},
   "outputs": [
    {
     "data": {
      "text/plain": [
       "client_id             int64\n",
       "clnt_tenure_yr      float64\n",
       "clnt_tenure_mnth    float64\n",
       "clnt_age            float64\n",
       "gendr                object\n",
       "num_accts           float64\n",
       "bal                 float64\n",
       "calls_6_mnth        float64\n",
       "logons_6_mnth       float64\n",
       "dtype: object"
      ]
     },
     "execution_count": 7,
     "metadata": {},
     "output_type": "execute_result"
    }
   ],
   "source": [
    "df_demo.dtypes"
   ]
  },
  {
   "cell_type": "markdown",
   "id": "a0fbda00-a3cc-4ac7-92d8-e1415c6956df",
   "metadata": {},
   "source": [
    "**DATA BREAKDOWN**    \n",
    "Column names are fine -> nothing to change here:\n",
    "- client_id (int64) -> unique number series\n",
    "- clnt_tenure_yr (float64) -> how long the client has been tenured in yrs\n",
    "- clnt_tenure_mnth (float64) -> how long the client has been tenured in mnths **exactly, so more than yrs!!!**\n",
    "- clnt_age (float64) -> age of client -> **....WHY is it float? There are half years**\n",
    "- gendr (object: string) -> gender of client, categorial more than 2 options it seems\n",
    "- num_accts (float64) -> the number of accounts the client has\n",
    "- bal (float64) -> client balance\n",
    "- **calls_6_mnth (float64) -> not sure exactly**\n",
    "- logons_6_mnth (float64) -> how many times the client has logged on in the last 6 months?"
   ]
  },
  {
   "cell_type": "code",
   "execution_count": 8,
   "id": "9fc74a04-db2f-4824-859b-ebd200d82a9f",
   "metadata": {},
   "outputs": [
    {
     "data": {
      "text/plain": [
       "clnt_age            15\n",
       "clnt_tenure_yr      14\n",
       "clnt_tenure_mnth    14\n",
       "gendr               14\n",
       "num_accts           14\n",
       "bal                 14\n",
       "calls_6_mnth        14\n",
       "logons_6_mnth       14\n",
       "client_id            0\n",
       "dtype: int64"
      ]
     },
     "execution_count": 8,
     "metadata": {},
     "output_type": "execute_result"
    }
   ],
   "source": [
    "# Checking for missing data\n",
    "df_demo.isnull().sum().sort_values(ascending=False)"
   ]
  },
  {
   "cell_type": "code",
   "execution_count": 15,
   "id": "055402f3-a9d9-4f0f-b4f0-68c65ffb05e6",
   "metadata": {},
   "outputs": [
    {
     "data": {
      "text/plain": [
       "array(['U', 'M', 'F', nan, 'X'], dtype=object)"
      ]
     },
     "execution_count": 15,
     "metadata": {},
     "output_type": "execute_result"
    }
   ],
   "source": [
    "df_demo['gendr'].unique()"
   ]
  },
  {
   "cell_type": "code",
   "execution_count": 11,
   "id": "cf4fd66e-21d7-43d5-aac8-a9ef2b17f4d2",
   "metadata": {},
   "outputs": [
    {
     "name": "stdout",
     "output_type": "stream",
     "text": [
      "       client_id  clnt_tenure_yr  clnt_tenure_mnth  clnt_age gendr  num_accts  \\\n",
      "4164     7402828             NaN               NaN       NaN   NaN        NaN   \n",
      "8316      355337             NaN               NaN       NaN   NaN        NaN   \n",
      "8677     8412164             NaN               NaN       NaN   NaN        NaN   \n",
      "9583     4666211             8.0             106.0       NaN     F        2.0   \n",
      "13444    2222915             NaN               NaN       NaN   NaN        NaN   \n",
      "18066    4876926             NaN               NaN       NaN   NaN        NaN   \n",
      "25961    5277910             NaN               NaN       NaN   NaN        NaN   \n",
      "28432    7616759             NaN               NaN       NaN   NaN        NaN   \n",
      "35323    8191345             NaN               NaN       NaN   NaN        NaN   \n",
      "43518    1227228             NaN               NaN       NaN   NaN        NaN   \n",
      "46076    8611797             NaN               NaN       NaN   NaN        NaN   \n",
      "47189    5144725             NaN               NaN       NaN   NaN        NaN   \n",
      "49846    1037867             NaN               NaN       NaN   NaN        NaN   \n",
      "63701    1618749             NaN               NaN       NaN   NaN        NaN   \n",
      "66219    6021001             NaN               NaN       NaN   NaN        NaN   \n",
      "\n",
      "            bal  calls_6_mnth  logons_6_mnth  \n",
      "4164        NaN           NaN            NaN  \n",
      "8316        NaN           NaN            NaN  \n",
      "8677        NaN           NaN            NaN  \n",
      "9583   42550.55           4.0            7.0  \n",
      "13444       NaN           NaN            NaN  \n",
      "18066       NaN           NaN            NaN  \n",
      "25961       NaN           NaN            NaN  \n",
      "28432       NaN           NaN            NaN  \n",
      "35323       NaN           NaN            NaN  \n",
      "43518       NaN           NaN            NaN  \n",
      "46076       NaN           NaN            NaN  \n",
      "47189       NaN           NaN            NaN  \n",
      "49846       NaN           NaN            NaN  \n",
      "63701       NaN           NaN            NaN  \n",
      "66219       NaN           NaN            NaN  \n"
     ]
    }
   ],
   "source": [
    "# checking out the null rows\n",
    "\n",
    "null_rows = df_demo[df_demo.isnull().any(axis=1)]\n",
    "print(null_rows)"
   ]
  },
  {
   "cell_type": "code",
   "execution_count": 12,
   "id": "b0df1667-a695-44c1-803e-913fda7cb11a",
   "metadata": {},
   "outputs": [
    {
     "data": {
      "text/plain": [
       "0.01982750074353128"
      ]
     },
     "execution_count": 12,
     "metadata": {},
     "output_type": "execute_result"
    }
   ],
   "source": [
    "#percent null\n",
    "(14/df_demo.shape[0])*100"
   ]
  },
  {
   "cell_type": "code",
   "execution_count": null,
   "id": "2765c681-96eb-4d89-84a8-66bfa97f8f93",
   "metadata": {},
   "outputs": [],
   "source": [
    "# drop it like it's hot\n",
    "#clean_ /df_demo = df_demo.dropna()\n"
   ]
  },
  {
   "cell_type": "code",
   "execution_count": 14,
   "id": "45a4648b-d1fd-4ff5-8b6e-9eb661a575df",
   "metadata": {},
   "outputs": [
    {
     "data": {
      "text/html": [
       "<div>\n",
       "<style scoped>\n",
       "    .dataframe tbody tr th:only-of-type {\n",
       "        vertical-align: middle;\n",
       "    }\n",
       "\n",
       "    .dataframe tbody tr th {\n",
       "        vertical-align: top;\n",
       "    }\n",
       "\n",
       "    .dataframe thead th {\n",
       "        text-align: right;\n",
       "    }\n",
       "</style>\n",
       "<table border=\"1\" class=\"dataframe\">\n",
       "  <thead>\n",
       "    <tr style=\"text-align: right;\">\n",
       "      <th></th>\n",
       "      <th>client_id</th>\n",
       "      <th>clnt_tenure_yr</th>\n",
       "      <th>clnt_tenure_mnth</th>\n",
       "      <th>clnt_age</th>\n",
       "      <th>num_accts</th>\n",
       "      <th>bal</th>\n",
       "      <th>calls_6_mnth</th>\n",
       "      <th>logons_6_mnth</th>\n",
       "    </tr>\n",
       "  </thead>\n",
       "  <tbody>\n",
       "    <tr>\n",
       "      <th>count</th>\n",
       "      <td>70609.00</td>\n",
       "      <td>70595.00</td>\n",
       "      <td>70595.00</td>\n",
       "      <td>70594.00</td>\n",
       "      <td>70595.00</td>\n",
       "      <td>70595.00</td>\n",
       "      <td>70595.00</td>\n",
       "      <td>70595.00</td>\n",
       "    </tr>\n",
       "    <tr>\n",
       "      <th>mean</th>\n",
       "      <td>5004991.88</td>\n",
       "      <td>12.05</td>\n",
       "      <td>150.66</td>\n",
       "      <td>46.44</td>\n",
       "      <td>2.26</td>\n",
       "      <td>147445.24</td>\n",
       "      <td>3.38</td>\n",
       "      <td>5.57</td>\n",
       "    </tr>\n",
       "    <tr>\n",
       "      <th>std</th>\n",
       "      <td>2877277.63</td>\n",
       "      <td>6.87</td>\n",
       "      <td>82.09</td>\n",
       "      <td>15.59</td>\n",
       "      <td>0.53</td>\n",
       "      <td>301508.71</td>\n",
       "      <td>2.24</td>\n",
       "      <td>2.35</td>\n",
       "    </tr>\n",
       "    <tr>\n",
       "      <th>min</th>\n",
       "      <td>169.00</td>\n",
       "      <td>2.00</td>\n",
       "      <td>33.00</td>\n",
       "      <td>13.50</td>\n",
       "      <td>1.00</td>\n",
       "      <td>13789.42</td>\n",
       "      <td>0.00</td>\n",
       "      <td>1.00</td>\n",
       "    </tr>\n",
       "    <tr>\n",
       "      <th>25%</th>\n",
       "      <td>2519329.00</td>\n",
       "      <td>6.00</td>\n",
       "      <td>82.00</td>\n",
       "      <td>32.50</td>\n",
       "      <td>2.00</td>\n",
       "      <td>37346.84</td>\n",
       "      <td>1.00</td>\n",
       "      <td>4.00</td>\n",
       "    </tr>\n",
       "    <tr>\n",
       "      <th>50%</th>\n",
       "      <td>5016978.00</td>\n",
       "      <td>11.00</td>\n",
       "      <td>136.00</td>\n",
       "      <td>47.00</td>\n",
       "      <td>2.00</td>\n",
       "      <td>63332.90</td>\n",
       "      <td>3.00</td>\n",
       "      <td>5.00</td>\n",
       "    </tr>\n",
       "    <tr>\n",
       "      <th>75%</th>\n",
       "      <td>7483085.00</td>\n",
       "      <td>16.00</td>\n",
       "      <td>192.00</td>\n",
       "      <td>59.00</td>\n",
       "      <td>2.00</td>\n",
       "      <td>137544.90</td>\n",
       "      <td>6.00</td>\n",
       "      <td>7.00</td>\n",
       "    </tr>\n",
       "    <tr>\n",
       "      <th>max</th>\n",
       "      <td>9999839.00</td>\n",
       "      <td>62.00</td>\n",
       "      <td>749.00</td>\n",
       "      <td>96.00</td>\n",
       "      <td>8.00</td>\n",
       "      <td>16320040.15</td>\n",
       "      <td>7.00</td>\n",
       "      <td>9.00</td>\n",
       "    </tr>\n",
       "  </tbody>\n",
       "</table>\n",
       "</div>"
      ],
      "text/plain": [
       "        client_id  clnt_tenure_yr  clnt_tenure_mnth  clnt_age  num_accts  \\\n",
       "count    70609.00        70595.00          70595.00  70594.00   70595.00   \n",
       "mean   5004991.88           12.05            150.66     46.44       2.26   \n",
       "std    2877277.63            6.87             82.09     15.59       0.53   \n",
       "min        169.00            2.00             33.00     13.50       1.00   \n",
       "25%    2519329.00            6.00             82.00     32.50       2.00   \n",
       "50%    5016978.00           11.00            136.00     47.00       2.00   \n",
       "75%    7483085.00           16.00            192.00     59.00       2.00   \n",
       "max    9999839.00           62.00            749.00     96.00       8.00   \n",
       "\n",
       "               bal  calls_6_mnth  logons_6_mnth  \n",
       "count     70595.00      70595.00       70595.00  \n",
       "mean     147445.24          3.38           5.57  \n",
       "std      301508.71          2.24           2.35  \n",
       "min       13789.42          0.00           1.00  \n",
       "25%       37346.84          1.00           4.00  \n",
       "50%       63332.90          3.00           5.00  \n",
       "75%      137544.90          6.00           7.00  \n",
       "max    16320040.15          7.00           9.00  "
      ]
     },
     "execution_count": 14,
     "metadata": {},
     "output_type": "execute_result"
    }
   ],
   "source": [
    "df_demo.describe().round(2)"
   ]
  },
  {
   "cell_type": "markdown",
   "id": "9ebdb8d4-b1e9-420f-b9c6-fc24d49a2e3c",
   "metadata": {},
   "source": [
    "## What needs cleaning\n",
    "- there are 14 clients we can drop cause their entire col rows are blank (affects less than 1% of the dataset)\n",
    "- only one client is missing an age, but we can fill that with avg age\n",
    "- clnt_age -> **suggest to round down cause half years are meaningless**\n",
    "- num_accts, clnt_tenure_yr, logons_6_mnth & calls_6_mnth should be full integers (cause discrete values) -> **suggest to round these up**\n",
    "- gendr has U & X as well as M & F -> **suggest to leave alone**\n",
    "- **we should not drop anything until we merge/join the tables together**"
   ]
  },
  {
   "cell_type": "code",
   "execution_count": null,
   "id": "02755314-ecf3-4e44-92b7-23e24d8d3f98",
   "metadata": {},
   "outputs": [],
   "source": []
  },
  {
   "cell_type": "code",
   "execution_count": null,
   "id": "df495d8b-70ba-4520-808a-cb12edc87e3b",
   "metadata": {},
   "outputs": [],
   "source": []
  }
 ],
 "metadata": {
  "kernelspec": {
   "display_name": "Python 3 (ipykernel)",
   "language": "python",
   "name": "python3"
  },
  "language_info": {
   "codemirror_mode": {
    "name": "ipython",
    "version": 3
   },
   "file_extension": ".py",
   "mimetype": "text/x-python",
   "name": "python",
   "nbconvert_exporter": "python",
   "pygments_lexer": "ipython3",
   "version": "3.11.9"
  }
 },
 "nbformat": 4,
 "nbformat_minor": 5
}
