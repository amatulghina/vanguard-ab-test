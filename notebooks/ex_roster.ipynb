{
 "cells": [
  {
   "cell_type": "code",
   "execution_count": 1,
   "id": "3dd3afd9-4a2a-44b9-8380-a3e976a2d1bc",
   "metadata": {},
   "outputs": [],
   "source": [
    "import pandas as pd\n",
    "import numpy as np"
   ]
  },
  {
   "cell_type": "code",
   "execution_count": 2,
   "id": "2ae1124a-f20a-4550-aa9e-8cbbfbcb3bda",
   "metadata": {},
   "outputs": [],
   "source": [
    "pd.set_option('display.max_columns', None)\n",
    "pd.set_option('display.max_rows', None)"
   ]
  },
  {
   "cell_type": "code",
   "execution_count": null,
   "id": "f8b3e6db-8c65-4f0b-97e3-00f00fcb4f42",
   "metadata": {},
   "outputs": [],
   "source": [
    "# demo = \"../data/raw/df_final_demo.txt\"\n",
    "# webdata1 = \"../data/raw/df_final_web_data_pt_1.txt\"\n",
    "# webdata2 = \"../data/raw/df_final_web_data_pt_2.txt\"\n",
    "# experiment = \"../data/raw/df_final_experiment_clients.txt\"\n",
    "\n",
    "# df_demo = pd.read_csv(demo)\n",
    "# df_webdata1 = pd.read_csv(webdata1)\n",
    "# df_webdata2 = pd.read_csv(webdata2)\n",
    "# df_exp = pd.read_csv(experiment)"
   ]
  },
  {
   "cell_type": "code",
   "execution_count": 4,
   "id": "97ebfe84-7b32-4292-8d74-34e7bd9bb9f0",
   "metadata": {},
   "outputs": [],
   "source": [
    "df_exp = pd.read_csv('/Users/sashacrowe/codebase-ih/vanguard-ab-test/data/raw/df_final_experiment_clients.txt')"
   ]
  },
  {
   "cell_type": "markdown",
   "id": "16e2c1e0-5e9f-45e7-857d-3063de1305b8",
   "metadata": {},
   "source": [
    "## First Look at the Dataset"
   ]
  },
  {
   "cell_type": "code",
   "execution_count": 5,
   "id": "0cb30e39-7544-49cf-acc5-ada3c107e5d0",
   "metadata": {},
   "outputs": [
    {
     "data": {
      "text/html": [
       "<div>\n",
       "<style scoped>\n",
       "    .dataframe tbody tr th:only-of-type {\n",
       "        vertical-align: middle;\n",
       "    }\n",
       "\n",
       "    .dataframe tbody tr th {\n",
       "        vertical-align: top;\n",
       "    }\n",
       "\n",
       "    .dataframe thead th {\n",
       "        text-align: right;\n",
       "    }\n",
       "</style>\n",
       "<table border=\"1\" class=\"dataframe\">\n",
       "  <thead>\n",
       "    <tr style=\"text-align: right;\">\n",
       "      <th></th>\n",
       "      <th>client_id</th>\n",
       "      <th>Variation</th>\n",
       "    </tr>\n",
       "  </thead>\n",
       "  <tbody>\n",
       "    <tr>\n",
       "      <th>0</th>\n",
       "      <td>9988021</td>\n",
       "      <td>Test</td>\n",
       "    </tr>\n",
       "    <tr>\n",
       "      <th>1</th>\n",
       "      <td>8320017</td>\n",
       "      <td>Test</td>\n",
       "    </tr>\n",
       "    <tr>\n",
       "      <th>2</th>\n",
       "      <td>4033851</td>\n",
       "      <td>Control</td>\n",
       "    </tr>\n",
       "    <tr>\n",
       "      <th>3</th>\n",
       "      <td>1982004</td>\n",
       "      <td>Test</td>\n",
       "    </tr>\n",
       "    <tr>\n",
       "      <th>4</th>\n",
       "      <td>9294070</td>\n",
       "      <td>Control</td>\n",
       "    </tr>\n",
       "  </tbody>\n",
       "</table>\n",
       "</div>"
      ],
      "text/plain": [
       "   client_id Variation\n",
       "0    9988021      Test\n",
       "1    8320017      Test\n",
       "2    4033851   Control\n",
       "3    1982004      Test\n",
       "4    9294070   Control"
      ]
     },
     "execution_count": 5,
     "metadata": {},
     "output_type": "execute_result"
    }
   ],
   "source": [
    "df_exp.head()"
   ]
  },
  {
   "cell_type": "code",
   "execution_count": 6,
   "id": "6ccf9215-415e-408d-a40d-2ea98aa9e440",
   "metadata": {},
   "outputs": [
    {
     "data": {
      "text/plain": [
       "(70609, 2)"
      ]
     },
     "execution_count": 6,
     "metadata": {},
     "output_type": "execute_result"
    }
   ],
   "source": [
    "df_exp.shape"
   ]
  },
  {
   "cell_type": "code",
   "execution_count": 7,
   "id": "257c8447-b600-4402-afd1-44f094e274ec",
   "metadata": {},
   "outputs": [
    {
     "data": {
      "text/plain": [
       "client_id     int64\n",
       "Variation    object\n",
       "dtype: object"
      ]
     },
     "execution_count": 7,
     "metadata": {},
     "output_type": "execute_result"
    }
   ],
   "source": [
    "df_exp.dtypes"
   ]
  },
  {
   "cell_type": "markdown",
   "id": "f556d875-69fd-4083-9931-c7f9171d48ff",
   "metadata": {},
   "source": [
    "**DATA BREAKDOWN**    \n",
    "Column name changes -> Variation should be in lowercase\n",
    "- Variation (object:string) ->  tells us who was in a test group vs who was in a control group"
   ]
  },
  {
   "cell_type": "code",
   "execution_count": 9,
   "id": "0112bed3-a451-4454-a175-46f3edc6ff7c",
   "metadata": {},
   "outputs": [
    {
     "data": {
      "text/plain": [
       "Variation    20109\n",
       "client_id        0\n",
       "dtype: int64"
      ]
     },
     "execution_count": 9,
     "metadata": {},
     "output_type": "execute_result"
    }
   ],
   "source": [
    "# Checking for missing data\n",
    "df_exp.isnull().sum().sort_values(ascending=False)"
   ]
  },
  {
   "cell_type": "code",
   "execution_count": 12,
   "id": "90440ea9-d5ef-46dc-9a60-eade2ea0761d",
   "metadata": {},
   "outputs": [
    {
     "data": {
      "text/plain": [
       "28.48"
      ]
     },
     "execution_count": 12,
     "metadata": {},
     "output_type": "execute_result"
    }
   ],
   "source": [
    "round((20109/df_exp.shape[0])*100,2)"
   ]
  },
  {
   "cell_type": "code",
   "execution_count": 17,
   "id": "eae9dd65-fa81-41c0-b1fe-4b9d8aa89ec5",
   "metadata": {},
   "outputs": [
    {
     "data": {
      "text/plain": [
       "Variation\n",
       "Test       26968\n",
       "Control    23532\n",
       "Name: count, dtype: int64"
      ]
     },
     "execution_count": 17,
     "metadata": {},
     "output_type": "execute_result"
    }
   ],
   "source": [
    "df_exp['Variation'].value_counts()"
   ]
  },
  {
   "cell_type": "code",
   "execution_count": 21,
   "id": "85d76882-8867-47f3-8910-93239f065424",
   "metadata": {},
   "outputs": [
    {
     "data": {
      "text/plain": [
       "Variation\n",
       "Test       53.40198\n",
       "Control    46.59802\n",
       "Name: proportion, dtype: float64"
      ]
     },
     "execution_count": 21,
     "metadata": {},
     "output_type": "execute_result"
    }
   ],
   "source": [
    "df_exp['Variation'].value_counts(normalize=True)*100"
   ]
  },
  {
   "cell_type": "code",
   "execution_count": null,
   "id": "0869df30-cd97-4ee1-a9c2-7219225585dd",
   "metadata": {},
   "outputs": [],
   "source": []
  },
  {
   "cell_type": "markdown",
   "id": "03e29346-61dc-4a96-a761-b5e9e94297cc",
   "metadata": {},
   "source": [
    "## What needs cleaning\n",
    "- the number of rows matches with the client_profiles dataset (70609 records each)\n",
    "- for the null values in variation we should fill it with value 'untested'\n",
    "- close to 30% of our clients were part of the A/B test... of which 53% were tested & 47% were control"
   ]
  },
  {
   "cell_type": "markdown",
   "id": "2248953a-e80d-46d2-a094-fd5c60befde1",
   "metadata": {},
   "source": [
    "## A/B TEST INFO\n",
    "An A/B test was set into motion from 3/15/2017 to 6/20/2017 by the team.\n",
    "\n",
    "- Control Group: Clients interacted with Vanguard’s traditional online process.\n",
    "- Test Group: Clients experienced the new, spruced-up digital interface.   \n",
    "\n",
    "Both groups navigated through an identical process sequence: an initial page, three subsequent steps, and finally, a confirmation page signaling process completion.\n",
    "\n",
    "The goal is to see if the new design leads to a better user experience and higher process completion rates.\n",
    "\n"
   ]
  },
  {
   "cell_type": "code",
   "execution_count": null,
   "id": "082a9815-f2b8-4eb1-a0ac-4dc1d256f854",
   "metadata": {},
   "outputs": [],
   "source": []
  }
 ],
 "metadata": {
  "kernelspec": {
   "display_name": "Python 3 (ipykernel)",
   "language": "python",
   "name": "python3"
  },
  "language_info": {
   "codemirror_mode": {
    "name": "ipython",
    "version": 3
   },
   "file_extension": ".py",
   "mimetype": "text/x-python",
   "name": "python",
   "nbconvert_exporter": "python",
   "pygments_lexer": "ipython3",
   "version": "3.11.9"
  }
 },
 "nbformat": 4,
 "nbformat_minor": 5
}
