{
 "cells": [
  {
   "cell_type": "markdown",
   "metadata": {},
   "source": [
    "### Load Cleaned Dataset"
   ]
  },
  {
   "cell_type": "code",
   "execution_count": 325,
   "metadata": {},
   "outputs": [],
   "source": [
    "import pandas as pd\n",
    "import numpy as np\n",
    "import seaborn as sns\n",
    "import warnings\n",
    "warnings.simplefilter(action='ignore', category=FutureWarning)\n",
    "\n",
    "test = pd.read_csv(\"../data/cleaned/test.csv\")\n",
    "control = pd.read_csv(\"../data/cleaned/control.csv\")\n",
    "demo = pd.read_csv(\"../data/cleaned/demo.csv\")\n",
    "exp = pd.read_csv(\"../data/cleaned/exp.csv\")"
   ]
  },
  {
   "cell_type": "markdown",
   "metadata": {},
   "source": [
    "### Client Profile\n",
    "1. Who are the primary clients using this online process?\n",
    "2. Are the primary clients younger or older, new or long-standing?\n",
    "3. Next, carry out a client behaviour analysis to answer any additional relevant questions you think are important.\n"
   ]
  },
  {
   "cell_type": "code",
   "execution_count": null,
   "metadata": {},
   "outputs": [],
   "source": [
    "demo_exp = pd.merge(demo, exp, on=\"client_id\")"
   ]
  },
  {
   "cell_type": "code",
   "execution_count": null,
   "metadata": {},
   "outputs": [],
   "source": [
    "demo_exp.client_id.nunique()"
   ]
  },
  {
   "cell_type": "code",
   "execution_count": null,
   "metadata": {},
   "outputs": [],
   "source": [
    "sns.histplot(demo['clnt_age'], kde=True, bins=30, color='red').set_title(\"Client's Age Distribution\")"
   ]
  },
  {
   "cell_type": "code",
   "execution_count": null,
   "metadata": {},
   "outputs": [],
   "source": [
    "sns.histplot(data=demo_exp, x=\"clnt_age\", hue=\"Variation\", kde=True, bins=30, color='red').set_title(\"Client's Age Distribution (Test vs Control)\");"
   ]
  },
  {
   "cell_type": "code",
   "execution_count": null,
   "metadata": {},
   "outputs": [],
   "source": [
    "sns.histplot(demo_exp['clnt_age'][demo_exp[\"Variation\"]==\"Control\"], kde=True, bins=30, color='red').set_title(\"Client's Age Distribution (Control Group)\")"
   ]
  },
  {
   "cell_type": "code",
   "execution_count": null,
   "metadata": {},
   "outputs": [],
   "source": [
    "sns.histplot(demo_exp['clnt_age'][demo_exp[\"Variation\"]==\"Test\"], kde=True, bins=30, color='red').set_title(\"Client's Age Distribution (Test Group)\")"
   ]
  },
  {
   "cell_type": "markdown",
   "metadata": {},
   "source": [
    "Age distribution between Control & Test Group are relatively the same with the whole clients data in demo."
   ]
  },
  {
   "cell_type": "code",
   "execution_count": null,
   "metadata": {},
   "outputs": [],
   "source": [
    "demo_exp.describe().round()"
   ]
  },
  {
   "cell_type": "code",
   "execution_count": null,
   "metadata": {},
   "outputs": [],
   "source": [
    "sns.histplot(demo['clnt_tenure_yr'], kde=True, bins=30, color='red')"
   ]
  },
  {
   "cell_type": "code",
   "execution_count": null,
   "metadata": {},
   "outputs": [],
   "source": [
    "sns.scatterplot(demo, x='clnt_age', y='clnt_tenure_yr')"
   ]
  },
  {
   "cell_type": "code",
   "execution_count": null,
   "metadata": {},
   "outputs": [],
   "source": [
    "pd.crosstab(demo[\"calls_6_mnth\"], demo[\"logons_6_mnth\"])"
   ]
  },
  {
   "cell_type": "code",
   "execution_count": null,
   "metadata": {},
   "outputs": [],
   "source": [
    "sns.scatterplot(demo, x='clnt_age', y='bal')"
   ]
  },
  {
   "cell_type": "code",
   "execution_count": null,
   "metadata": {},
   "outputs": [],
   "source": [
    "sns.scatterplot(demo[demo[\"bal\"]<2000000], x='clnt_age', y='bal')"
   ]
  },
  {
   "cell_type": "markdown",
   "metadata": {},
   "source": [
    "### Performace Metrics\n",
    "\n",
    "1. Completion Rate: The proportion of users who reach the final ‘confirm’ step.\n",
    "2. Time Spent on Each Step: The average duration users spend on each step.\n",
    "3. Error Rates: If there’s a step where users go back to a previous step, it may indicate confusion or an error. You should consider moving from a later step to an earlier one as an error."
   ]
  },
  {
   "cell_type": "markdown",
   "metadata": {},
   "source": [
    "### 1. Completion Rate: The proportion of users who reach the final ‘confirm’ step."
   ]
  },
  {
   "cell_type": "markdown",
   "metadata": {},
   "source": [
    "Assumption:\n",
    "- No matter from which visitor_id or visit_id, as long as the client_id follow the process_step sequentially (start > step 1 > step 2 > step 3 > confirm), the process is considered complete."
   ]
  },
  {
   "cell_type": "code",
   "execution_count": 326,
   "metadata": {},
   "outputs": [],
   "source": [
    "# Create pivot dataframe (if the client_id has duplicate in 'visit_id' and 'process_step' -> keep the last)\n",
    "test_pivot = test.drop_duplicates(subset=['client_id', 'visitor_id', 'visit_id','process_step'], keep='last')\n",
    "test_pivot = test_pivot.pivot(index=['client_id', 'visitor_id', 'visit_id'], columns='process_step', values='date_time')\n",
    "test_pivot = test_pivot.reset_index()\n",
    "test_pivot = test_pivot[['client_id','visitor_id','visit_id','start','step_1','step_2','step_3','confirm']]\n",
    "\n",
    "#Create dummy variable for each step (1=there is timestamp in particular step; 0=otherwise)\n",
    "test_pivot['start_count'] = test_pivot[['start']].notna().sum(axis=1)\n",
    "test_pivot['step_1_count'] = test_pivot[['step_1']].notna().sum(axis=1)\n",
    "test_pivot['step_2_count'] = test_pivot[['step_2']].notna().sum(axis=1)\n",
    "test_pivot['step_3_count'] = test_pivot[['step_3']].notna().sum(axis=1)\n",
    "test_pivot['confirm_count'] = test_pivot[['confirm']].notna().sum(axis=1)\n",
    "\n",
    "# Sum of count of log by each client_id (Note: some client_id may have >1 count in particular step)\n",
    "test_count_log = test_pivot.groupby('client_id')[['start_count','step_1_count','step_2_count','step_3_count','confirm_count']].sum().reset_index()\n",
    "\n",
    "# Create dummy variable which identify client_id who reached specific step\n",
    "CR_test = test_count_log[['client_id', 'start_count', 'step_1_count', 'step_2_count','step_3_count', 'confirm_count']]\n",
    "CR_test['start'] = CR_test['start_count'].apply(lambda x: 1 if x >= 1 else 0)\n",
    "CR_test['step_1'] = CR_test['step_1_count'].apply(lambda x: 1 if x >= 1 else 0)\n",
    "CR_test['step_2'] = CR_test['step_2_count'].apply(lambda x: 1 if x >= 1 else 0)\n",
    "CR_test['step_3'] = CR_test['step_3_count'].apply(lambda x: 1 if x >= 1 else 0)\n",
    "CR_test['confirm'] = CR_test['confirm_count'].apply(lambda x: 1 if x >= 1 else 0)\n",
    "\n",
    "# Not counting client_id who does not have timestamp on the previous step (sequentially)\n",
    "CR_test.loc[CR_test['step_3'] == 0, 'confirm'] = 0\n",
    "CR_test.loc[CR_test['step_2'] == 0, 'step_3'] = 0\n",
    "CR_test.loc[CR_test['step_1'] == 0, 'step_2'] = 0\n",
    "CR_test.loc[CR_test['start'] == 0, 'step_1'] = 0\n",
    "\n",
    "# Final Completion Rate\n",
    "Completion_Rate_test = CR_test[['start','step_1','step_2','step_3','confirm']].sum().reset_index()\n",
    "Completion_Rate_test.columns = ['process_step', 'num_users']\n",
    "Completion_Rate_test[[\"CR_test\"]] = round(Completion_Rate_test[[\"num_users\"]] / Completion_Rate_test[\"num_users\"][0] *100,2)"
   ]
  },
  {
   "cell_type": "code",
   "execution_count": 327,
   "metadata": {},
   "outputs": [],
   "source": [
    "# Create pivot dataframe (if the client_id has duplicate in 'visit_id' and 'process_step' -> keep the last)\n",
    "control_pivot = control.drop_duplicates(subset=['client_id', 'visitor_id', 'visit_id','process_step'], keep='last')\n",
    "control_pivot = control_pivot.pivot(index=['client_id', 'visitor_id', 'visit_id'], columns='process_step', values='date_time')\n",
    "control_pivot = control_pivot.reset_index()\n",
    "control_pivot = control_pivot[['client_id','visitor_id','visit_id','start','step_1','step_2','step_3','confirm']]\n",
    "\n",
    "#Create dummy variable for each step (1=there is timestamp in particular step; 0=otherwise)\n",
    "control_pivot['start_count'] = control_pivot[['start']].notna().sum(axis=1)\n",
    "control_pivot['step_1_count'] = control_pivot[['step_1']].notna().sum(axis=1)\n",
    "control_pivot['step_2_count'] = control_pivot[['step_2']].notna().sum(axis=1)\n",
    "control_pivot['step_3_count'] = control_pivot[['step_3']].notna().sum(axis=1)\n",
    "control_pivot['confirm_count'] = control_pivot[['confirm']].notna().sum(axis=1)\n",
    "\n",
    "# Sum of count of log by each client_id (Note: some client_id may have >1 count in particular step)\n",
    "control_count_log = control_pivot.groupby('client_id')[['start_count','step_1_count','step_2_count','step_3_count','confirm_count']].sum().reset_index()\n",
    "\n",
    "# Create dummy variable which identify client_id who reached specific step\n",
    "CR_control = control_count_log[['client_id', 'start_count', 'step_1_count', 'step_2_count','step_3_count', 'confirm_count']]\n",
    "CR_control['start'] = CR_control['start_count'].apply(lambda x: 1 if x >= 1 else 0)\n",
    "CR_control['step_1'] = CR_control['step_1_count'].apply(lambda x: 1 if x >= 1 else 0)\n",
    "CR_control['step_2'] = CR_control['step_2_count'].apply(lambda x: 1 if x >= 1 else 0)\n",
    "CR_control['step_3'] = CR_control['step_3_count'].apply(lambda x: 1 if x >= 1 else 0)\n",
    "CR_control['confirm'] = CR_control['confirm_count'].apply(lambda x: 1 if x >= 1 else 0)\n",
    "\n",
    "# Not counting client_id who does not have timestamp on the previous step (sequentially)\n",
    "CR_control.loc[CR_control['step_3'] == 0, 'confirm'] = 0\n",
    "CR_control.loc[CR_control['step_2'] == 0, 'step_3'] = 0\n",
    "CR_control.loc[CR_control['step_1'] == 0, 'step_2'] = 0\n",
    "CR_control.loc[CR_control['start'] == 0, 'step_1'] = 0\n",
    "\n",
    "# Final Completion Rate\n",
    "Completion_Rate_control = CR_control[['start','step_1','step_2','step_3','confirm']].sum().reset_index()\n",
    "Completion_Rate_control.columns = ['process_step', 'num_users']\n",
    "Completion_Rate_control[[\"CR_control\"]] = round(Completion_Rate_control[[\"num_users\"]] / Completion_Rate_control[\"num_users\"][0] *100,2)"
   ]
  },
  {
   "cell_type": "code",
   "execution_count": 328,
   "metadata": {},
   "outputs": [
    {
     "data": {
      "text/html": [
       "<div>\n",
       "<style scoped>\n",
       "    .dataframe tbody tr th:only-of-type {\n",
       "        vertical-align: middle;\n",
       "    }\n",
       "\n",
       "    .dataframe tbody tr th {\n",
       "        vertical-align: top;\n",
       "    }\n",
       "\n",
       "    .dataframe thead th {\n",
       "        text-align: right;\n",
       "    }\n",
       "</style>\n",
       "<table border=\"1\" class=\"dataframe\">\n",
       "  <thead>\n",
       "    <tr style=\"text-align: right;\">\n",
       "      <th></th>\n",
       "      <th>process_step</th>\n",
       "      <th>num_users</th>\n",
       "      <th>CR_test</th>\n",
       "    </tr>\n",
       "  </thead>\n",
       "  <tbody>\n",
       "    <tr>\n",
       "      <th>0</th>\n",
       "      <td>start</td>\n",
       "      <td>26679</td>\n",
       "      <td>100.00</td>\n",
       "    </tr>\n",
       "    <tr>\n",
       "      <th>1</th>\n",
       "      <td>step_1</td>\n",
       "      <td>24201</td>\n",
       "      <td>90.71</td>\n",
       "    </tr>\n",
       "    <tr>\n",
       "      <th>2</th>\n",
       "      <td>step_2</td>\n",
       "      <td>22243</td>\n",
       "      <td>83.37</td>\n",
       "    </tr>\n",
       "    <tr>\n",
       "      <th>3</th>\n",
       "      <td>step_3</td>\n",
       "      <td>20834</td>\n",
       "      <td>78.09</td>\n",
       "    </tr>\n",
       "    <tr>\n",
       "      <th>4</th>\n",
       "      <td>confirm</td>\n",
       "      <td>18445</td>\n",
       "      <td>69.14</td>\n",
       "    </tr>\n",
       "  </tbody>\n",
       "</table>\n",
       "</div>"
      ],
      "text/plain": [
       "  process_step  num_users  CR_test\n",
       "0        start      26679   100.00\n",
       "1       step_1      24201    90.71\n",
       "2       step_2      22243    83.37\n",
       "3       step_3      20834    78.09\n",
       "4      confirm      18445    69.14"
      ]
     },
     "execution_count": 328,
     "metadata": {},
     "output_type": "execute_result"
    }
   ],
   "source": [
    "Completion_Rate_test"
   ]
  },
  {
   "cell_type": "code",
   "execution_count": 329,
   "metadata": {},
   "outputs": [
    {
     "data": {
      "text/html": [
       "<div>\n",
       "<style scoped>\n",
       "    .dataframe tbody tr th:only-of-type {\n",
       "        vertical-align: middle;\n",
       "    }\n",
       "\n",
       "    .dataframe tbody tr th {\n",
       "        vertical-align: top;\n",
       "    }\n",
       "\n",
       "    .dataframe thead th {\n",
       "        text-align: right;\n",
       "    }\n",
       "</style>\n",
       "<table border=\"1\" class=\"dataframe\">\n",
       "  <thead>\n",
       "    <tr style=\"text-align: right;\">\n",
       "      <th></th>\n",
       "      <th>process_step</th>\n",
       "      <th>num_users</th>\n",
       "      <th>CR_control</th>\n",
       "    </tr>\n",
       "  </thead>\n",
       "  <tbody>\n",
       "    <tr>\n",
       "      <th>0</th>\n",
       "      <td>start</td>\n",
       "      <td>23397</td>\n",
       "      <td>100.00</td>\n",
       "    </tr>\n",
       "    <tr>\n",
       "      <th>1</th>\n",
       "      <td>step_1</td>\n",
       "      <td>20082</td>\n",
       "      <td>85.83</td>\n",
       "    </tr>\n",
       "    <tr>\n",
       "      <th>2</th>\n",
       "      <td>step_2</td>\n",
       "      <td>18633</td>\n",
       "      <td>79.64</td>\n",
       "    </tr>\n",
       "    <tr>\n",
       "      <th>3</th>\n",
       "      <td>step_3</td>\n",
       "      <td>17356</td>\n",
       "      <td>74.18</td>\n",
       "    </tr>\n",
       "    <tr>\n",
       "      <th>4</th>\n",
       "      <td>confirm</td>\n",
       "      <td>15329</td>\n",
       "      <td>65.52</td>\n",
       "    </tr>\n",
       "  </tbody>\n",
       "</table>\n",
       "</div>"
      ],
      "text/plain": [
       "  process_step  num_users  CR_control\n",
       "0        start      23397      100.00\n",
       "1       step_1      20082       85.83\n",
       "2       step_2      18633       79.64\n",
       "3       step_3      17356       74.18\n",
       "4      confirm      15329       65.52"
      ]
     },
     "execution_count": 329,
     "metadata": {},
     "output_type": "execute_result"
    }
   ],
   "source": [
    "Completion_Rate_control"
   ]
  },
  {
   "cell_type": "markdown",
   "metadata": {},
   "source": [
    "### 2. Time Spent on Each Step: The average duration users spend on each step."
   ]
  },
  {
   "cell_type": "markdown",
   "metadata": {},
   "source": [
    "Assumption:"
   ]
  },
  {
   "cell_type": "code",
   "execution_count": 335,
   "metadata": {},
   "outputs": [],
   "source": [
    "# Create pivot dataframe (if the client_id has duplicate in 'visit_id' and 'process_step' -> keep the last)\n",
    "test_pivot = test.drop_duplicates(subset=['client_id', 'visitor_id', 'visit_id','process_step'], keep='last')\n",
    "test_pivot = test_pivot.pivot(index=['client_id', 'visitor_id', 'visit_id'], columns='process_step', values='date_time')\n",
    "test_pivot = test_pivot.reset_index()\n",
    "test_time = test_pivot[['client_id','visitor_id','visit_id','start','step_1','step_2','step_3','confirm']]\n",
    "\n",
    "steps = ['start','step_1','step_2','step_3','confirm']\n",
    "for step in steps:\n",
    "    test_time[step] = pd.to_datetime(test_time[step])\n",
    "    \n",
    "test_time[\"start_dur\"] = test_time[\"step_1\"] - test_time[\"start\"]\n",
    "test_time[\"step_1_dur\"] = test_time[\"step_2\"] - test_time[\"step_1\"] \n",
    "test_time[\"step_2_dur\"] = test_time[\"step_3\"] - test_time[\"step_2\"] \n",
    "test_time[\"step_3_dur\"] = test_time[\"confirm\"] - test_time[\"step_3\"] \n",
    "\n",
    "\n",
    "durs = ['start_dur','step_1_dur','step_2_dur','step_3_dur']\n",
    "for dur in durs:\n",
    "    test_time[dur] = test_time[dur].apply(lambda x: x if x >= pd.Timedelta(0) else pd.NaT)\n",
    "    #test_time[dur] = test_time[dur].apply(lambda x: f\"{int(x.total_seconds() // 60):02}:{int(x.total_seconds() % 60):02}\" if pd.notnull(x) else np.nan)\n",
    "    \n",
    "time_test = test_time[['start_dur','step_1_dur','step_2_dur','step_3_dur']].mean().reset_index()\n",
    "time_test.columns = ['process_step', 'duration']"
   ]
  },
  {
   "cell_type": "code",
   "execution_count": 349,
   "metadata": {},
   "outputs": [],
   "source": [
    "# Create pivot dataframe (if the client_id has duplicate in 'visit_id' and 'process_step' -> keep the last)\n",
    "control_pivot = control.drop_duplicates(subset=['client_id', 'visitor_id', 'visit_id','process_step'], keep='last')\n",
    "control_pivot = control_pivot.pivot(index=['client_id', 'visitor_id', 'visit_id'], columns='process_step', values='date_time')\n",
    "control_pivot = control_pivot.reset_index()\n",
    "control_time = control_pivot[['client_id','visitor_id','visit_id','start','step_1','step_2','step_3','confirm']]\n",
    "\n",
    "steps = ['start','step_1','step_2','step_3','confirm']\n",
    "for step in steps:\n",
    "    control_time[step] = pd.to_datetime(control_time[step])\n",
    "    \n",
    "control_time[\"start_dur\"] = control_time[\"step_1\"] - control_time[\"start\"]\n",
    "control_time[\"step_1_dur\"] = control_time[\"step_2\"] - control_time[\"step_1\"] \n",
    "control_time[\"step_2_dur\"] = control_time[\"step_3\"] - control_time[\"step_2\"] \n",
    "control_time[\"step_3_dur\"] = control_time[\"confirm\"] - control_time[\"step_3\"] \n",
    "\n",
    "\n",
    "durs = ['start_dur','step_1_dur','step_2_dur','step_3_dur']\n",
    "for dur in durs:\n",
    "    control_time[dur] = control_time[dur].apply(lambda x: x if x >= pd.Timedelta(0) else pd.NaT)\n",
    "    #control_time[dur] = control_time[dur].apply(lambda x: f\"{int(x.total_seconds() // 60):02}:{int(x.total_seconds() % 60):02}\" if pd.notnull(x) else np.nan)\n",
    "    \n",
    "time_control = control_time[['start_dur','step_1_dur','step_2_dur','step_3_dur']].mean().reset_index()\n",
    "time_control.columns = ['process_step', 'duration']"
   ]
  },
  {
   "cell_type": "code",
   "execution_count": 348,
   "metadata": {},
   "outputs": [
    {
     "data": {
      "text/html": [
       "<div>\n",
       "<style scoped>\n",
       "    .dataframe tbody tr th:only-of-type {\n",
       "        vertical-align: middle;\n",
       "    }\n",
       "\n",
       "    .dataframe tbody tr th {\n",
       "        vertical-align: top;\n",
       "    }\n",
       "\n",
       "    .dataframe thead th {\n",
       "        text-align: right;\n",
       "    }\n",
       "</style>\n",
       "<table border=\"1\" class=\"dataframe\">\n",
       "  <thead>\n",
       "    <tr style=\"text-align: right;\">\n",
       "      <th></th>\n",
       "      <th>process_step</th>\n",
       "      <th>duration</th>\n",
       "    </tr>\n",
       "  </thead>\n",
       "  <tbody>\n",
       "    <tr>\n",
       "      <th>0</th>\n",
       "      <td>start_dur</td>\n",
       "      <td>0 days 00:00:49.330020809</td>\n",
       "    </tr>\n",
       "    <tr>\n",
       "      <th>1</th>\n",
       "      <td>step_1_dur</td>\n",
       "      <td>0 days 00:00:50.851985402</td>\n",
       "    </tr>\n",
       "    <tr>\n",
       "      <th>2</th>\n",
       "      <td>step_2_dur</td>\n",
       "      <td>0 days 00:01:42.118102065</td>\n",
       "    </tr>\n",
       "    <tr>\n",
       "      <th>3</th>\n",
       "      <td>step_3_dur</td>\n",
       "      <td>0 days 00:02:23.443006308</td>\n",
       "    </tr>\n",
       "  </tbody>\n",
       "</table>\n",
       "</div>"
      ],
      "text/plain": [
       "  process_step                  duration\n",
       "0    start_dur 0 days 00:00:49.330020809\n",
       "1   step_1_dur 0 days 00:00:50.851985402\n",
       "2   step_2_dur 0 days 00:01:42.118102065\n",
       "3   step_3_dur 0 days 00:02:23.443006308"
      ]
     },
     "execution_count": 348,
     "metadata": {},
     "output_type": "execute_result"
    }
   ],
   "source": [
    "time_test"
   ]
  },
  {
   "cell_type": "code",
   "execution_count": 351,
   "metadata": {},
   "outputs": [
    {
     "data": {
      "text/html": [
       "<div>\n",
       "<style scoped>\n",
       "    .dataframe tbody tr th:only-of-type {\n",
       "        vertical-align: middle;\n",
       "    }\n",
       "\n",
       "    .dataframe tbody tr th {\n",
       "        vertical-align: top;\n",
       "    }\n",
       "\n",
       "    .dataframe thead th {\n",
       "        text-align: right;\n",
       "    }\n",
       "</style>\n",
       "<table border=\"1\" class=\"dataframe\">\n",
       "  <thead>\n",
       "    <tr style=\"text-align: right;\">\n",
       "      <th></th>\n",
       "      <th>process_step</th>\n",
       "      <th>duration</th>\n",
       "    </tr>\n",
       "  </thead>\n",
       "  <tbody>\n",
       "    <tr>\n",
       "      <th>0</th>\n",
       "      <td>start_dur</td>\n",
       "      <td>0 days 00:00:54.578368944</td>\n",
       "    </tr>\n",
       "    <tr>\n",
       "      <th>1</th>\n",
       "      <td>step_1_dur</td>\n",
       "      <td>0 days 00:00:51.818625393</td>\n",
       "    </tr>\n",
       "    <tr>\n",
       "      <th>2</th>\n",
       "      <td>step_2_dur</td>\n",
       "      <td>0 days 00:01:39.330432829</td>\n",
       "    </tr>\n",
       "    <tr>\n",
       "      <th>3</th>\n",
       "      <td>step_3_dur</td>\n",
       "      <td>0 days 00:02:15.819548872</td>\n",
       "    </tr>\n",
       "  </tbody>\n",
       "</table>\n",
       "</div>"
      ],
      "text/plain": [
       "  process_step                  duration\n",
       "0    start_dur 0 days 00:00:54.578368944\n",
       "1   step_1_dur 0 days 00:00:51.818625393\n",
       "2   step_2_dur 0 days 00:01:39.330432829\n",
       "3   step_3_dur 0 days 00:02:15.819548872"
      ]
     },
     "execution_count": 351,
     "metadata": {},
     "output_type": "execute_result"
    }
   ],
   "source": [
    "time_control"
   ]
  },
  {
   "cell_type": "markdown",
   "metadata": {},
   "source": [
    "### 3. Error Rate"
   ]
  },
  {
   "cell_type": "code",
   "execution_count": null,
   "metadata": {},
   "outputs": [],
   "source": []
  },
  {
   "cell_type": "code",
   "execution_count": null,
   "metadata": {},
   "outputs": [],
   "source": []
  },
  {
   "cell_type": "code",
   "execution_count": null,
   "metadata": {},
   "outputs": [],
   "source": []
  }
 ],
 "metadata": {
  "kernelspec": {
   "display_name": "Python 3",
   "language": "python",
   "name": "python3"
  },
  "language_info": {
   "codemirror_mode": {
    "name": "ipython",
    "version": 3
   },
   "file_extension": ".py",
   "mimetype": "text/x-python",
   "name": "python",
   "nbconvert_exporter": "python",
   "pygments_lexer": "ipython3",
   "version": "3.7.4"
  }
 },
 "nbformat": 4,
 "nbformat_minor": 4
}
